{
 "cells": [
  {
   "cell_type": "code",
   "execution_count": null,
   "metadata": {},
   "outputs": [],
   "source": [
    "#Create a function that returns with a subsest of a list.\n",
    "#The subset's starting and ending indexes should be set as input parameters (the list aswell).\n",
    "#return type: list\n",
    "#function name must be: subset\n",
    "#input parameters: input_list,start_index,end_index"
   ]
  },
  {
   "cell_type": "code",
   "execution_count": 1,
   "metadata": {},
   "outputs": [
    {
     "data": {
      "text/plain": [
       "[2, 3, 4]"
      ]
     },
     "execution_count": 1,
     "metadata": {},
     "output_type": "execute_result"
    }
   ],
   "source": [
    "def subset(input_list,start_index,end_index):\n",
    "    out=[]\n",
    "    for i in range(len(input_list)):\n",
    "        if(i >= start_index and i<= end_index):\n",
    "            out.append(input_list[i])\n",
    "    return out\n",
    "subset([1,2,3,4,5], 1,3)"
   ]
  },
  {
   "cell_type": "code",
   "execution_count": null,
   "metadata": {},
   "outputs": [],
   "source": [
    "#Create a function that returns every nth element of a list.\n",
    "#return type: list\n",
    "#function name must be: every_nth\n",
    "#input parameters: input_list,step_size"
   ]
  },
  {
   "cell_type": "code",
   "execution_count": 13,
   "metadata": {},
   "outputs": [
    {
     "data": {
      "text/plain": [
       "[1, 3]"
      ]
     },
     "execution_count": 13,
     "metadata": {},
     "output_type": "execute_result"
    }
   ],
   "source": [
    "def every_nth(input_list,step_size):\n",
    "    out=[]\n",
    "    for i in range(len(input_list)):\n",
    "        if (i+1)%step_size==0:\n",
    "            out.append(input_list[i])\n",
    "    return out\n",
    "every_nth([0,1,2,3,4],2)"
   ]
  },
  {
   "cell_type": "code",
   "execution_count": null,
   "metadata": {},
   "outputs": [],
   "source": [
    "#Create a function that can decide whether a list contains unique values or not\n",
    "#return type: bool\n",
    "#function name must be: unique\n",
    "#input parameters: input_list"
   ]
  },
  {
   "cell_type": "code",
   "execution_count": 16,
   "metadata": {},
   "outputs": [
    {
     "data": {
      "text/plain": [
       "False"
      ]
     },
     "execution_count": 16,
     "metadata": {},
     "output_type": "execute_result"
    }
   ],
   "source": [
    "def unique(input_list):\n",
    "    out=[]\n",
    "    for e in input_list:\n",
    "        if e not in out:\n",
    "            out.append(e)\n",
    "        else:\n",
    "            return False\n",
    "    return True\n",
    "unique([1,0,1])"
   ]
  },
  {
   "cell_type": "code",
   "execution_count": null,
   "metadata": {},
   "outputs": [],
   "source": [
    "#Create a function that can flatten a nested list ([[..],[..],..])\n",
    "#return type: list\n",
    "#fucntion name must be: flatten\n",
    "#input parameters: input_list"
   ]
  },
  {
   "cell_type": "code",
   "execution_count": 17,
   "metadata": {},
   "outputs": [
    {
     "data": {
      "text/plain": [
       "[1, 2, 3, 4, 5, 6]"
      ]
     },
     "execution_count": 17,
     "metadata": {},
     "output_type": "execute_result"
    }
   ],
   "source": [
    "def flatten(input_list):\n",
    "    out=[]\n",
    "    for l in input_list:\n",
    "        for e in l:\n",
    "            out.append(e)\n",
    "    return out\n",
    "flatten([[1,2],[3,4],[5,6]])"
   ]
  },
  {
   "cell_type": "code",
   "execution_count": null,
   "metadata": {},
   "outputs": [],
   "source": [
    "#Create a function that concatenates n lists\n",
    "#return type: list\n",
    "#function name must be: merge_lists\n",
    "#input parameters: *args\n"
   ]
  },
  {
   "cell_type": "code",
   "execution_count": 18,
   "metadata": {},
   "outputs": [
    {
     "data": {
      "text/plain": [
       "[1, 2, 3, 4, 5, 6]"
      ]
     },
     "execution_count": 18,
     "metadata": {},
     "output_type": "execute_result"
    }
   ],
   "source": [
    "def merge_lists(*args):\n",
    "    out=[]\n",
    "    for l in args:\n",
    "        out.extend(l)\n",
    "    return out\n",
    "merge_lists([1,2],[3,4],[5,6])"
   ]
  },
  {
   "cell_type": "code",
   "execution_count": null,
   "metadata": {},
   "outputs": [],
   "source": [
    "#Create a function that can reverse a list of tuples\n",
    "#example [(1,2),...] => [(2,1),...]\n",
    "#return type: list\n",
    "#fucntion name must be: reverse_tuples\n",
    "#input parameters: input_list"
   ]
  },
  {
   "cell_type": "code",
   "execution_count": 23,
   "metadata": {},
   "outputs": [
    {
     "data": {
      "text/plain": [
       "[(3, 2, 1), (4, 3)]"
      ]
     },
     "execution_count": 23,
     "metadata": {},
     "output_type": "execute_result"
    }
   ],
   "source": [
    "def reverse_tuples(input_list):\n",
    "    for i in range(len(input_list)):\n",
    "        l=[]\n",
    "        for j in reversed(range(len(input_list[i]))):\n",
    "            l.append(input_list[i][j])\n",
    "        input_list[i]=tuple(l)\n",
    "    return input_list\n",
    "reverse_tuples([(1,2), (3,4)])"
   ]
  },
  {
   "cell_type": "code",
   "execution_count": null,
   "metadata": {},
   "outputs": [],
   "source": [
    "#Create a function that removes duplicates from a list\n",
    "#return type: list\n",
    "#fucntion name must be: remove_tuplicates\n",
    "#input parameters: input_list"
   ]
  },
  {
   "cell_type": "code",
   "execution_count": 24,
   "metadata": {},
   "outputs": [
    {
     "data": {
      "text/plain": [
       "[1, 2, 3, 4]"
      ]
     },
     "execution_count": 24,
     "metadata": {},
     "output_type": "execute_result"
    }
   ],
   "source": [
    "def remove_tuplicates(input_list):\n",
    "    out=[]\n",
    "    for e in input_list:\n",
    "        if e not in out:\n",
    "            out.append(e)\n",
    "    return out\n",
    "remove_tuplicates([1,2,2,3,4,4]) "
   ]
  },
  {
   "cell_type": "code",
   "execution_count": null,
   "metadata": {},
   "outputs": [],
   "source": [
    "#Create a function that transposes a nested list (matrix)\n",
    "#return type: list\n",
    "#function name must be: transpose\n",
    "#input parameters: input_list"
   ]
  },
  {
   "cell_type": "code",
   "execution_count": 32,
   "metadata": {},
   "outputs": [
    {
     "data": {
      "text/plain": [
       "[[1, 3, 5], [2, 4, 6]]"
      ]
     },
     "execution_count": 32,
     "metadata": {},
     "output_type": "execute_result"
    }
   ],
   "source": [
    "def transpose(input_list):\n",
    "    out=[]\n",
    "    for i in range(len(input_list)):\n",
    "        for j in range(len(input_list[i])):\n",
    "            if len(out) <len(input_list[i]):\n",
    "                out.append([])\n",
    "            out[j].append(input_list[i][j])  \n",
    "    return out\n",
    "transpose([\n",
    "    [1,2],\n",
    "    [3,4],\n",
    "    [5,6]\n",
    "])\n"
   ]
  },
  {
   "cell_type": "code",
   "execution_count": null,
   "metadata": {},
   "outputs": [],
   "source": [
    "#Create a function that can split a nested list into chunks\n",
    "#chunk size is given by parameter\n",
    "#return type: list\n",
    "#function name must be: split_into_chunks\n",
    "#input parameters: input_list,chunk_size"
   ]
  },
  {
   "cell_type": "code",
   "execution_count": 38,
   "metadata": {},
   "outputs": [
    {
     "data": {
      "text/plain": [
       "[[1, 2, 3, 4, 5, 6]]"
      ]
     },
     "execution_count": 38,
     "metadata": {},
     "output_type": "execute_result"
    }
   ],
   "source": [
    "def split_into_chunks(input_list,chunk_size):\n",
    "    out=[]\n",
    "    c=0\n",
    "    n=[]\n",
    "    for l in input_list:\n",
    "        for e in l:         \n",
    "            c=c+1\n",
    "            n.append(e)\n",
    "            if c== chunk_size:\n",
    "                c=0\n",
    "                out.append(n)\n",
    "                n=[]\n",
    "    if len(n)!=0:\n",
    "        out.append(n)\n",
    "    return out\n",
    "split_into_chunks([[1],[2,3],[4,5,6]], 5)"
   ]
  },
  {
   "cell_type": "code",
   "execution_count": null,
   "metadata": {},
   "outputs": [],
   "source": [
    "#Create a function that can merge n dictionaries\n",
    "#return type: dictionary\n",
    "#function name must be: merge_dicts\n",
    "#input parameters: *dict"
   ]
  },
  {
   "cell_type": "code",
   "execution_count": 45,
   "metadata": {},
   "outputs": [
    {
     "data": {
      "text/plain": [
       "{1: 'one', 2: 'two', 3: 'three', 4: 'four', 5: 'five'}"
      ]
     },
     "execution_count": 45,
     "metadata": {},
     "output_type": "execute_result"
    }
   ],
   "source": [
    "def merge_dicts(*dict):\n",
    "    out={}\n",
    "    for dic in dict:\n",
    "        for key in dic.keys():\n",
    "            out[key]=dic[key]\n",
    "    return out\n",
    "merge_dicts({1:\"one\", 2: \"two\"}, {3:\"three\",4:\"four\",5:\"five\"})"
   ]
  },
  {
   "cell_type": "code",
   "execution_count": null,
   "metadata": {},
   "outputs": [],
   "source": [
    "#Create a function that receives a list of integers and sort them by parity\n",
    "#and returns with a dictionary like this: {\"even\":[...],\"odd\":[...]}\n",
    "#return type: dict\n",
    "#function name must be: by_parity\n",
    "#input parameters: input_list"
   ]
  },
  {
   "cell_type": "code",
   "execution_count": 46,
   "metadata": {},
   "outputs": [
    {
     "data": {
      "text/plain": [
       "{'even': [2, 4, 6], 'odd': [1, 3, 5]}"
      ]
     },
     "execution_count": 46,
     "metadata": {},
     "output_type": "execute_result"
    }
   ],
   "source": [
    "def by_parity(input_list):\n",
    "    out={}\n",
    "    out[\"even\"]=[]\n",
    "    out[\"odd\"]=[]\n",
    "    for e in input_list:\n",
    "        if e%2==0:\n",
    "            out[\"even\"].append(e)\n",
    "        else:\n",
    "            out[\"odd\"].append(e)\n",
    "    return out\n",
    "by_parity([1,2,3,4,5,6])"
   ]
  },
  {
   "cell_type": "code",
   "execution_count": null,
   "metadata": {},
   "outputs": [],
   "source": [
    "#Create a function that receives a dictionary like this: {\"some_key\":[1,2,3,4],\"another_key\":[1,2,3,4],....}\n",
    "#and return a dictionary like this : {\"some_key\":mean_of_values,\"another_key\":mean_of_values,....}\n",
    "#in short calculates the mean of the values key wise\n",
    "#return type: dict\n",
    "#function name must be: mean_key_value\n",
    "#input parameters: input_dict"
   ]
  },
  {
   "cell_type": "code",
   "execution_count": 49,
   "metadata": {},
   "outputs": [
    {
     "data": {
      "text/plain": [
       "{'somekey': 2, 'key': 6}"
      ]
     },
     "execution_count": 49,
     "metadata": {},
     "output_type": "execute_result"
    }
   ],
   "source": [
    "def mean_key_value(input_dict):\n",
    "    for key in input_dict.keys():\n",
    "        m=0\n",
    "        for e in input_dict[key]:\n",
    "            m+=e\n",
    "        input_dict[key]=int(m/len(input_dict[key]))\n",
    "    return input_dict\n",
    "mean_key_value({\"somekey\":[1,2,3],\"key\": [5,7]})"
   ]
  },
  {
   "cell_type": "code",
   "execution_count": null,
   "metadata": {},
   "outputs": [],
   "source": [
    "#If all the functions are created convert this notebook into a .py file and push to your repo"
   ]
  }
 ],
 "metadata": {
  "kernelspec": {
   "display_name": "Python 3",
   "language": "python",
   "name": "python3"
  },
  "language_info": {
   "codemirror_mode": {
    "name": "ipython",
    "version": 3
   },
   "file_extension": ".py",
   "mimetype": "text/x-python",
   "name": "python",
   "nbconvert_exporter": "python",
   "pygments_lexer": "ipython3",
   "version": "3.10.9"
  },
  "orig_nbformat": 4,
  "vscode": {
   "interpreter": {
    "hash": "e7370f93d1d0cde622a1f8e1c04877d8463912d04d973331ad4851f04de6915a"
   }
  }
 },
 "nbformat": 4,
 "nbformat_minor": 2
}
