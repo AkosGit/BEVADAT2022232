{
  "cells": [
    {
      "cell_type": "code",
      "execution_count": 4,
      "metadata": {
        "id": "7OgJ73JITDjk"
      },
      "outputs": [],
      "source": [
        "import numpy as np"
      ]
    },
    {
      "cell_type": "code",
      "execution_count": null,
      "metadata": {
        "id": "0r-95vS5TDjp"
      },
      "outputs": [],
      "source": [
        "#FONTOS!!!\n",
        "\n",
        "# CSAK OTT LEHET HASZNÁLNI FOR LOOP-OT AHOL A FELADAT KÜLÖN KÉRI!\n",
        "# [1,2,3,4] --> ezek az értékek np.array-ek. Ahol listát kérek paraméterként ott külön ki fogom emelni!\n",
        "# Ha végeztél a feladatokkal, akkor notebook-ot alakítsd át .py.\n",
        "# A FÁJLBAN CSAK A FÜGGVÉNYEK LEGYENEK! (KOMMENTEK MARADHATNAK)"
      ]
    },
    {
      "cell_type": "code",
      "execution_count": null,
      "metadata": {
        "id": "oi0twxZCTDjt"
      },
      "outputs": [],
      "source": [
        "# Írj egy olyan fügvényt, ami megfordítja egy 2d array oszlopait. Bemenetként egy array-t vár.\n",
        "# Be: [[1,2],[3,4]]\n",
        "# Ki: [[2,1],[4,3]]\n",
        "# column_swap()"
      ]
    },
    {
      "cell_type": "code",
      "execution_count": 17,
      "metadata": {
        "colab": {
          "base_uri": "https://localhost:8080/"
        },
        "id": "nmvPYBaYTMsa",
        "outputId": "4355f790-af46-4723-ede9-345fe2d6c13c"
      },
      "outputs": [
        {
          "data": {
            "text/plain": [
              "array([[2, 1],\n",
              "       [4, 3]])"
            ]
          },
          "execution_count": 17,
          "metadata": {},
          "output_type": "execute_result"
        }
      ],
      "source": [
        "def column_swap(arg):\n",
        "  return np.fliplr(arg)\n",
        "#column_swap(np.array([[1,2],[3,4]]))  "
      ]
    },
    {
      "cell_type": "code",
      "execution_count": null,
      "metadata": {
        "id": "03APkWYmTDjv"
      },
      "outputs": [],
      "source": [
        "# Készíts egy olyan függvényt ami összehasonlít két array-t és adjon vissza egy array-ben, hogy hol egyenlőek \n",
        "# Pl Be: [7,8,9], [9,8,7] \n",
        "# Ki: [1]\n",
        "# compare_two_array()\n",
        "# egyenlő elemszámúakra kell csak hogy működjön"
      ]
    },
    {
      "cell_type": "code",
      "execution_count": null,
      "metadata": {
        "colab": {
          "base_uri": "https://localhost:8080/"
        },
        "id": "3tD9SiK7Tjv4",
        "outputId": "56eefbf6-e7e2-4013-fd13-39d081e8f663"
      },
      "outputs": [
        {
          "data": {
            "text/plain": [
              "array([1])"
            ]
          },
          "execution_count": 3,
          "metadata": {},
          "output_type": "execute_result"
        }
      ],
      "source": [
        "def compare_two_array(arr,arr2):\n",
        "  res=np.array(arr[:]==arr2[:])\n",
        "  return np.nonzero(res)[0]\n",
        "#compare_two_array(np.array([7,8,9]), np.array([9,8,7]))"
      ]
    },
    {
      "cell_type": "code",
      "execution_count": null,
      "metadata": {
        "id": "1nJWcxcJTDjx"
      },
      "outputs": [],
      "source": [
        "# Készíts egy olyan függvényt, ami vissza adja string-ként a megadott array dimenzióit:\n",
        "# Be: [[1,2,3], [4,5,6]]\n",
        "# Ki: \"sor: 2, oszlop: 3, melyseg: 1\"\n",
        "# get_array_shape()\n",
        "# 3D-vel még műküdnie kell!, "
      ]
    },
    {
      "cell_type": "code",
      "execution_count": null,
      "metadata": {
        "colab": {
          "base_uri": "https://localhost:8080/",
          "height": 35
        },
        "id": "64_51RwozEFu",
        "outputId": "42d97cf1-8f4f-4069-cda4-e71d70473aa4"
      },
      "outputs": [
        {
          "data": {
            "application/vnd.google.colaboratory.intrinsic+json": {
              "type": "string"
            },
            "text/plain": [
              "'sor: 2, oszlop: 3, melyseg: 2'"
            ]
          },
          "execution_count": 4,
          "metadata": {},
          "output_type": "execute_result"
        }
      ],
      "source": [
        "def get_array_shape(arr):\n",
        "  return f\"sor: {arr.shape[0]}, oszlop: {arr.shape[1]}, melyseg: {arr.ndim}\"\n",
        "#get_array_shape(np.array([[1,2,3], [4,5,6]]))"
      ]
    },
    {
      "cell_type": "code",
      "execution_count": null,
      "metadata": {
        "id": "T-MD2zmmTDjz"
      },
      "outputs": [],
      "source": [
        "# Készíts egy olyan függvényt, aminek segítségével elő tudod állítani egy neurális hálózat tanításához szükséges pred-et egy numpy array-ből. \n",
        "# Bementként add meg az array-t, illetve hogy mennyi class-od van. Kimenetként pedig adjon vissza egy 2d array-t, ahol a sorok az egyes elemek. Minden nullákkal teli legyen és csak ott álljon egyes, ahol a bementi tömb megjelöli. \n",
        "# Pl. ha 1 van a bemeneten és 4 classod van, akkor az adott sorban az array-ban a [1] helyen álljon egy 1-es, a többi helyen pedig 0.\n",
        "# Be: [1, 2, 0, 3], 4\n",
        "# Ki: [[0,1,0,0], [0, 0, 1, 0], [1, 0, 0, 0], [0, 0, 0, 1]]\n",
        "# encode_Y()"
      ]
    },
    {
      "cell_type": "code",
      "execution_count": 16,
      "metadata": {
        "colab": {
          "base_uri": "https://localhost:8080/"
        },
        "id": "KZc6FUXR0Mtx",
        "outputId": "c5401cde-1cec-41a6-d234-fd01f1cac8b5"
      },
      "outputs": [
        {
          "data": {
            "text/plain": [
              "array([[0., 1., 0., 0.],\n",
              "       [0., 0., 1., 0.],\n",
              "       [1., 0., 0., 0.],\n",
              "       [0., 0., 0., 1.]])"
            ]
          },
          "execution_count": 16,
          "metadata": {},
          "output_type": "execute_result"
        }
      ],
      "source": [
        "def encode_Y(arr,c):\n",
        "  return np.eye(c)[arr]\n",
        "#encode_Y(np.array([1, 2, 0, 3]),4)"
      ]
    },
    {
      "cell_type": "code",
      "execution_count": null,
      "metadata": {
        "id": "NO8URBToTDj2"
      },
      "outputs": [],
      "source": [
        "# A fenti feladatnak valósítsd meg a kiértékelését. Adj meg a 2d array-t és adj vissza a decodolt változatát\n",
        "# Be:  [[0,1,0,0], [0, 0, 1, 0], [1, 0, 0, 0], [0, 0, 0, 1]]\n",
        "# Ki:  [1, 2, 0, 3]\n",
        "# decode_Y()"
      ]
    },
    {
      "cell_type": "code",
      "execution_count": null,
      "metadata": {
        "colab": {
          "base_uri": "https://localhost:8080/"
        },
        "id": "Q4-TXrX6Tm4T",
        "outputId": "5a6bf463-c4c3-4af5-d5f3-a8eaacb10409"
      },
      "outputs": [
        {
          "data": {
            "text/plain": [
              "array([1, 2, 0, 3])"
            ]
          },
          "execution_count": 8,
          "metadata": {},
          "output_type": "execute_result"
        }
      ],
      "source": [
        "def decode_Y(arr):\n",
        "  return np.where(arr==1)[1]\n",
        "#decode_Y(np.array([[0,1,0,0], [0, 0, 1, 0], [1, 0, 0, 0], [0, 0, 0, 1]]))"
      ]
    },
    {
      "cell_type": "code",
      "execution_count": null,
      "metadata": {
        "id": "ATN1eeSQTDj3"
      },
      "outputs": [],
      "source": [
        "# Készíts egy olyan függvényt, ami képes kiértékelni egy neurális háló eredményét! Bemenetként egy listát és egy array-t és adja vissza azt az elemet, aminek a legnagyobb a valószínüsége(értéke) a listából.\n",
        "# Be: ['alma', 'körte', 'szilva'], [0.2, 0.2, 0.6]. # Az ['alma', 'körte', 'szilva'] egy lista!\n",
        "# Ki: 'szilva'\n",
        "# eval_classification()"
      ]
    },
    {
      "cell_type": "code",
      "execution_count": null,
      "metadata": {
        "colab": {
          "base_uri": "https://localhost:8080/",
          "height": 35
        },
        "id": "dW-Ph0wq2LrN",
        "outputId": "6631ec45-7861-436c-961d-47a65c5fc907"
      },
      "outputs": [
        {
          "data": {
            "application/vnd.google.colaboratory.intrinsic+json": {
              "type": "string"
            },
            "text/plain": [
              "'szilva'"
            ]
          },
          "execution_count": 16,
          "metadata": {},
          "output_type": "execute_result"
        }
      ],
      "source": [
        "def eval_classification(arr, prs):\n",
        "  m=np.amax(prs)\n",
        "  return arr[np.where(prs==m)[0][0]]\n",
        "#eval_classification(['alma', 'körte', 'szilva'],np.array([0.2, 0.2, 0.6]))"
      ]
    },
    {
      "cell_type": "code",
      "execution_count": null,
      "metadata": {
        "id": "9Hq3KU-kTDj6"
      },
      "outputs": [],
      "source": [
        "# Készíts egy olyan függvényt, ahol az 1D array-ben a páratlan számokat -1-re cseréli\n",
        "# Be: [1,2,3,4,5,6]\n",
        "# Ki: [-1,2,-1,4,-1,6]\n",
        "# replace_odd_numbers()"
      ]
    },
    {
      "cell_type": "code",
      "execution_count": null,
      "metadata": {
        "colab": {
          "base_uri": "https://localhost:8080/"
        },
        "id": "rxVV4KYq4rHR",
        "outputId": "e4c99b8e-e7ec-4534-f6ea-be40c9f93670"
      },
      "outputs": [
        {
          "name": "stdout",
          "output_type": "stream",
          "text": [
            "[ True False  True False  True False]\n"
          ]
        },
        {
          "data": {
            "text/plain": [
              "array([-1,  2, -1,  4, -1,  6])"
            ]
          },
          "execution_count": 28,
          "metadata": {},
          "output_type": "execute_result"
        }
      ],
      "source": [
        "def replace_odd_numbers(arr):\n",
        "  mask = np.mod(arr, 2) != 0\n",
        "  arr[mask] = -1\n",
        "  return arr\n",
        "#replace_odd_numbers(np.array([1,2,3,4,5,6]))"
      ]
    },
    {
      "cell_type": "code",
      "execution_count": null,
      "metadata": {
        "id": "g6SJivo6TDj9"
      },
      "outputs": [],
      "source": [
        "# Készíts egy olyan függvényt, ami egy array értékeit -1 és 1-re változtatja, attól függően, hogy az adott elem nagyobb vagy kisebb a paraméterként megadott számnál.\n",
        "# Ha a szám kisebb mint a megadott érték, akkor -1, ha nagyobb vagy egyenlő, akkor pedig 1.\n",
        "# Be: [1, 2, 5, 0], 2\n",
        "# Ki: [-1, 1, 1, -1]\n",
        "# replace_by_value()"
      ]
    },
    {
      "cell_type": "code",
      "execution_count": null,
      "metadata": {
        "colab": {
          "base_uri": "https://localhost:8080/"
        },
        "id": "wkCZ4ZQlBc1a",
        "outputId": "82fd1be2-a92c-4165-b7c1-f4bc3c4aa721"
      },
      "outputs": [
        {
          "name": "stdout",
          "output_type": "stream",
          "text": [
            "[-1  2  5 -1]\n"
          ]
        },
        {
          "data": {
            "text/plain": [
              "array([-1,  1,  1, -1])"
            ]
          },
          "execution_count": 62,
          "metadata": {},
          "output_type": "execute_result"
        }
      ],
      "source": [
        "def replace_by_value(arr,num):\n",
        "  arr[arr<num]=-1\n",
        "  arr[arr>=num]=1\n",
        "  return arr\n",
        "#replace_by_value(np.array([1, 2, 5, 0]),2)"
      ]
    },
    {
      "cell_type": "code",
      "execution_count": null,
      "metadata": {
        "id": "hV7ujcfHTDj-"
      },
      "outputs": [],
      "source": [
        "# Készíts egy olyan függvényt, ami egy array értékeit összeszorozza és az eredményt visszaadja\n",
        "# Be: [1,2,3,4]\n",
        "# Ki: 24\n",
        "# array_multi()\n",
        "# Ha több dimenziós a tömb, akkor az egész tömb elemeinek szorzatával térjen vissza"
      ]
    },
    {
      "cell_type": "code",
      "execution_count": null,
      "metadata": {
        "colab": {
          "base_uri": "https://localhost:8080/"
        },
        "id": "AfCHaQ0CFIGJ",
        "outputId": "00f327e7-5e9a-4fe4-9e5f-c5e5b277c869"
      },
      "outputs": [
        {
          "data": {
            "text/plain": [
              "24"
            ]
          },
          "execution_count": 40,
          "metadata": {},
          "output_type": "execute_result"
        }
      ],
      "source": [
        "def array_multi(arr):\n",
        "  return np.prod(arr)\n",
        "#array_multi(np.array([1,2,3,4]))"
      ]
    },
    {
      "cell_type": "code",
      "execution_count": null,
      "metadata": {
        "id": "H0mw4pEhTDkB"
      },
      "outputs": [],
      "source": [
        "# Készíts egy olyan függvényt, ami egy 2D array értékeit összeszorozza és egy olyan array-el tér vissza, aminek az elemei a soroknak a szorzata\n",
        "# Be: [[1, 2], [3, 4]]\n",
        "# Ki: [2, 12]\n",
        "# array_multi_2d()"
      ]
    },
    {
      "cell_type": "code",
      "execution_count": null,
      "metadata": {
        "colab": {
          "base_uri": "https://localhost:8080/"
        },
        "id": "Nr009A75GKbh",
        "outputId": "f77a2248-38d3-47c4-83c4-b6e34efeaff1"
      },
      "outputs": [
        {
          "data": {
            "text/plain": [
              "array([ 2, 12])"
            ]
          },
          "execution_count": 42,
          "metadata": {},
          "output_type": "execute_result"
        }
      ],
      "source": [
        "def array_multi_2d(arr):\n",
        "  return np.prod(arr, axis=1)\n",
        "#array_multi_2d(np.array([[1, 2], [3, 4]]))"
      ]
    },
    {
      "cell_type": "code",
      "execution_count": null,
      "metadata": {
        "id": "sjCskxkBTDkC"
      },
      "outputs": [],
      "source": [
        "# Készíts egy olyan függvényt, amit egy meglévő numpy array-hez készít egy bordert nullásokkal. Bementként egy array-t várjon és kimenetként egy array jelenjen meg aminek van border-je\n",
        "# Be: [[1,2],[3,4]]\n",
        "# Ki: [[0,0,0,0],[0,1,2,0],[0,3,4,0],[0,0,0,0]]\n",
        "# add_border()\n"
      ]
    },
    {
      "cell_type": "code",
      "execution_count": null,
      "metadata": {
        "colab": {
          "base_uri": "https://localhost:8080/"
        },
        "id": "_g3xuaieGMxi",
        "outputId": "a841b903-8e8d-42c9-9043-64aacb09adf9"
      },
      "outputs": [
        {
          "data": {
            "text/plain": [
              "array([[0, 0, 0, 0],\n",
              "       [0, 1, 2, 0],\n",
              "       [0, 3, 4, 0],\n",
              "       [0, 0, 0, 0]])"
            ]
          },
          "execution_count": 57,
          "metadata": {},
          "output_type": "execute_result"
        }
      ],
      "source": [
        "from numpy.core.multiarray import dtype\n",
        "def add_border(arr):\n",
        "  #before=np.insert(arr,0,np.array([0]),axis=1)  \n",
        "  rowappend=np.column_stack([np.zeros(arr.shape[0],dtype=int),arr, np.zeros(arr.shape[0],dtype=int)])\n",
        "  return np.vstack([np.zeros(rowappend.shape[1],dtype=int),rowappend,np.zeros(rowappend.shape[1],dtype=int) ])\n",
        "#add_border(np.array([[1,2],[3,4]]))"
      ]
    },
    {
      "cell_type": "code",
      "execution_count": null,
      "metadata": {
        "id": "1dPJi3kXTDkE"
      },
      "outputs": [],
      "source": [
        "# A KÖTVETKEZŐ FELADATOKHOZ NÉZZÉTEK MEG A NUMPY DATA TYPE-JÁT!"
      ]
    },
    {
      "cell_type": "code",
      "execution_count": null,
      "metadata": {
        "id": "_vh7crgvTDkG"
      },
      "outputs": [],
      "source": [
        "# Készíts egy olyan függvényt ami két dátum között felsorolja az összes napot és ezt adja vissza egy numpy array-ben. A fgv ként str vár paraméterként 'YYYY-MM' formában.\n",
        "# Be: '2023-03', '2023-04'  # mind a kettő paraméter str.\n",
        "# Ki: ['2023-03-01', '2023-03-02', .. , '2023-03-31',]\n",
        "# list_days()"
      ]
    },
    {
      "cell_type": "code",
      "execution_count": null,
      "metadata": {
        "colab": {
          "base_uri": "https://localhost:8080/"
        },
        "id": "USl409XiSr-Z",
        "outputId": "a650e87b-7ff5-475e-a91b-92d291ef1a15"
      },
      "outputs": [
        {
          "data": {
            "text/plain": [
              "array(['2023-03-01', '2023-03-02', '2023-03-03', '2023-03-04',\n",
              "       '2023-03-05', '2023-03-06', '2023-03-07', '2023-03-08',\n",
              "       '2023-03-09', '2023-03-10', '2023-03-11', '2023-03-12',\n",
              "       '2023-03-13', '2023-03-14', '2023-03-15', '2023-03-16',\n",
              "       '2023-03-17', '2023-03-18', '2023-03-19', '2023-03-20',\n",
              "       '2023-03-21', '2023-03-22', '2023-03-23', '2023-03-24',\n",
              "       '2023-03-25', '2023-03-26', '2023-03-27', '2023-03-28',\n",
              "       '2023-03-29', '2023-03-30', '2023-03-31'], dtype='<U28')"
            ]
          },
          "execution_count": 86,
          "metadata": {},
          "output_type": "execute_result"
        }
      ],
      "source": [
        "def list_days(start_date,end_date): # to strinf needed\n",
        "    sdate = np.datetime64(start_date)\n",
        "    enddate= np.datetime64(end_date)\n",
        "\n",
        "    # Create a range of dates between start and end dates\n",
        "    dates= np.arange(start_date, end_date, dtype='datetime64[D]')\n",
        "    return np.array(dates,dtype=str)\n",
        "#list_days('2023-03', '2023-04')"
      ]
    },
    {
      "cell_type": "code",
      "execution_count": null,
      "metadata": {
        "id": "76EUbdqYTDkH"
      },
      "outputs": [],
      "source": [
        "# Írj egy fügvényt ami vissza adja az aktuális dátumot az alábbi formában: YYYY-MM-DD. Térjen vissza egy 'numpy.datetime64' típussal.\n",
        "# Be:\n",
        "# Ki: 2017-03-24\n",
        "# get_act_date()"
      ]
    },
    {
      "cell_type": "code",
      "execution_count": null,
      "metadata": {
        "colab": {
          "base_uri": "https://localhost:8080/"
        },
        "id": "G11Xe6NmSssK",
        "outputId": "491a9eb9-63b2-4ba6-d9ec-d0d5b7a6fdac"
      },
      "outputs": [
        {
          "data": {
            "text/plain": [
              "numpy.datetime64('2023-03-09')"
            ]
          },
          "execution_count": 66,
          "metadata": {},
          "output_type": "execute_result"
        }
      ],
      "source": [
        "def get_act_date():\n",
        "  return np.datetime64('today')\n",
        "#get_act_date()\n"
      ]
    },
    {
      "cell_type": "code",
      "execution_count": null,
      "metadata": {
        "id": "UX8JqHTXTDkJ"
      },
      "outputs": [],
      "source": [
        "# Írj egy olyan függvényt ami visszadja, hogy mennyi másodperc telt el 1970 január 01. 00:02:00 óta. Int-el térjen vissza\n",
        "# Be: \n",
        "# Ki: másodpercben az idó, int-é kasztolva\n",
        "# sec_from_1970()"
      ]
    },
    {
      "cell_type": "code",
      "execution_count": null,
      "metadata": {
        "colab": {
          "base_uri": "https://localhost:8080/"
        },
        "id": "hVqQHLjSStJc",
        "outputId": "9a015ca8-90f1-4286-b97e-4bdef2aa45cf"
      },
      "outputs": [
        {
          "data": {
            "text/plain": [
              "1678382023"
            ]
          },
          "execution_count": 76,
          "metadata": {},
          "output_type": "execute_result"
        }
      ],
      "source": [
        "def sec_from_1970():\n",
        "  sdate = np.datetime64('1970-01-01T00:02:00')\n",
        "  cdate = np.datetime64('now')\n",
        "  secs = (cdate - sdate) / np.timedelta64(1, 's')\n",
        "  return int(secs)\n",
        "#sec_from_1970()"
      ]
    },
    {
      "cell_type": "code",
      "execution_count": null,
      "metadata": {
        "id": "lAPhSh4jW2pt"
      },
      "outputs": [],
      "source": []
    }
  ],
  "metadata": {
    "colab": {
      "provenance": []
    },
    "kernelspec": {
      "display_name": "Python 3",
      "language": "python",
      "name": "python3"
    },
    "language_info": {
      "codemirror_mode": {
        "name": "ipython",
        "version": 3
      },
      "file_extension": ".py",
      "mimetype": "text/x-python",
      "name": "python",
      "nbconvert_exporter": "python",
      "pygments_lexer": "ipython3",
      "version": "3.10.7"
    },
    "orig_nbformat": 4
  },
  "nbformat": 4,
  "nbformat_minor": 0
}
