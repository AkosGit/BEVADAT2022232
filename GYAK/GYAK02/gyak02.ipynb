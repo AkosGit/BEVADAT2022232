{
 "cells": [
  {
   "cell_type": "code",
   "execution_count": null,
   "metadata": {},
   "outputs": [],
   "source": []
  },
  {
   "attachments": {},
   "cell_type": "markdown",
   "metadata": {},
   "source": [
    "## ENV\n",
    "- requerments.txt pacges  with versions\n",
    "## Homework\n",
    "- no function calls\n",
    "- type hints\n",
    "- "
   ]
  },
  {
   "attachments": {},
   "cell_type": "markdown",
   "metadata": {},
   "source": [
    "## Type hints\n",
    "def f(size: int)\n",
    "## Arrays\n",
    "- np.array([1,2], ndim=N) - specifikálható dimenzió\n",
    "- arr.astype(int) numpy castolás\n",
    "- copy array => új array módositunk: arr.copy()\n",
    "- view from array => modifyng theoroignal array: arr.view()\n",
    "- concat array: np.concatenate(arr,arr2)\n",
    "arr = np.stack((arr1, arr2), axis=1)\n",
    "arr = np.hstack((arr1, arr2))\n",
    "- sort array (sorokba rendez csak): np.sort(arr)\n",
    "### Search\n",
    "x = np.where(arr == 4)\n",
    "- In sorted array:\n",
    "    arr = np.array([6, 7, 8, 9])\n",
    "- right side    \n",
    "    x = np.searchsorted(arr, 7,\n",
    "    side='right')\n",
    "- Multiple values:\n",
    "    arr = np.array([1, 3, 5, 7])\n",
    "    x = np.searchsorted(arr, [2, 4, 6])\n",
    "### filter\n",
    "filter_arr = arr % 2 == 0\n",
    "### Masking\n",
    "arr = np.array([41, 42, 43, 44])\n",
    "x = [True, False, True, False]\n",
    "newarr = arr[x]\n",
    "### Split\n",
    "arr = np.stack((arr1, arr2), axis=1)\n",
    "arr = np.hstack((arr1, arr2))\n",
    "## Random\n",
    "from numpy import random\n",
    "x = random.randint(100) #int\n",
    "x = random.randint(100, size=(5)) #rnd\n",
    "x = random.rand(3, 5) # float\n",
    "print(x)\n",
    "x = random.choice([3, 5, 7, 9])\n",
    "## Create numpy function\n",
    "myadd = np.frompyfunc(myadd, 2, 1)\n",
    "print(myadd([1, 2, 3, 4], [5, 6, 7,\n",
    "8]))\n",
    "\n"
   ]
  },
  {
   "cell_type": "code",
   "execution_count": null,
   "metadata": {},
   "outputs": [],
   "source": [
    "import numpy as "
   ]
  }
 ],
 "metadata": {
  "kernelspec": {
   "display_name": "Python 3",
   "language": "python",
   "name": "python3"
  },
  "language_info": {
   "name": "python",
   "version": "3.10.3"
  },
  "orig_nbformat": 4,
  "vscode": {
   "interpreter": {
    "hash": "e98160ef274be69b74999ae5c11d4ffc32e3029e302421b0e5ff5329f3efcb88"
   }
  }
 },
 "nbformat": 4,
 "nbformat_minor": 2
}
