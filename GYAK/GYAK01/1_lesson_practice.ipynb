{
 "cells": [
  {
   "cell_type": "code",
   "execution_count": null,
   "metadata": {},
   "outputs": [],
   "source": [
    "#Create a function that decides if a list contains any odd numbers.\n",
    "#return type: bool\n",
    "#function name must be: contains_odd\n",
    "#input parameters: input_list"
   ]
  },
  {
   "cell_type": "code",
   "execution_count": 2,
   "metadata": {},
   "outputs": [
    {
     "data": {
      "text/plain": [
       "False"
      ]
     },
     "execution_count": 2,
     "metadata": {},
     "output_type": "execute_result"
    }
   ],
   "source": [
    "def contains_odd(input_list):\n",
    "    for e in input_list:\n",
    "        if e%2!=0:\n",
    "            return True   \n",
    "    return False  \n",
    "contains_odd([2,2,2])"
   ]
  },
  {
   "cell_type": "code",
   "execution_count": null,
   "metadata": {},
   "outputs": [],
   "source": [
    "#Create a function that accepts a list of integers, and returns a list of bool.\n",
    "#The return list should be a \"mask\" and indicate whether the list element is odd or not.\n",
    "#(return should look like this: [True,False,False,.....])\n",
    "#return type: list\n",
    "#function name must be: is_odd\n",
    "#input parameters: input_list"
   ]
  },
  {
   "cell_type": "code",
   "execution_count": 3,
   "metadata": {},
   "outputs": [
    {
     "data": {
      "text/plain": [
       "[True, True, False, False]"
      ]
     },
     "execution_count": 3,
     "metadata": {},
     "output_type": "execute_result"
    }
   ],
   "source": [
    "def is_odd(input_list):\n",
    "    oddnums=[]\n",
    "    for e in input_list:\n",
    "        if e%2==0:\n",
    "            oddnums.append(False)\n",
    "        else:\n",
    "            oddnums.append(True)\n",
    "    return oddnums\n",
    "is_odd([1,1,2,2])"
   ]
  },
  {
   "cell_type": "code",
   "execution_count": null,
   "metadata": {},
   "outputs": [],
   "source": [
    "\n",
    "#Create a function that accpects 2 lists of integers and returns their element wise sum. <br>\n",
    "#(return should be a list)\n",
    "#return type: list\n",
    "#function name must be: element_wise_sum\n",
    "#input parameters: input_list_1, input_list_2"
   ]
  },
  {
   "cell_type": "code",
   "execution_count": 9,
   "metadata": {},
   "outputs": [
    {
     "data": {
      "text/plain": [
       "[4, 3, 2]"
      ]
     },
     "execution_count": 9,
     "metadata": {},
     "output_type": "execute_result"
    }
   ],
   "source": [
    "def element_wise_sum(input_list_1, input_list_2):\n",
    "    #decide which is smaller\n",
    "    out=[]\n",
    "    l=max(len(input_list_1), len(input_list_2))\n",
    "    for i in range(l):\n",
    "        num=0\n",
    "        if i < len(input_list_1):\n",
    "            num=num+input_list_1[i]\n",
    "        if i < len(input_list_2):\n",
    "            num=num+input_list_2[i]\n",
    "        out.append(num)\n",
    "    return out\n",
    "element_wise_sum([2,1],[2,2,2])"
   ]
  },
  {
   "cell_type": "code",
   "execution_count": null,
   "metadata": {},
   "outputs": [],
   "source": [
    "#Create a function that accepts a dictionary and returns its items as a list of tuples\n",
    "#(return should look like this: [(key,value),(key,value),....])\n",
    "#return type: list\n",
    "#function name must be: dict_to_list\n",
    "#input parameters: input_dict"
   ]
  },
  {
   "cell_type": "code",
   "execution_count": 10,
   "metadata": {},
   "outputs": [
    {
     "data": {
      "text/plain": [
       "[(1, 'one'), (2, 'two')]"
      ]
     },
     "execution_count": 10,
     "metadata": {},
     "output_type": "execute_result"
    }
   ],
   "source": [
    "def dict_to_list(input_dict):\n",
    "    out=[]\n",
    "    for key in input_dict.keys():\n",
    "        out.append((key,input_dict[key]))\n",
    "    return out\n",
    "dict_to_list({1:\"one\",2:\"two\"}) "
   ]
  },
  {
   "cell_type": "code",
   "execution_count": null,
   "metadata": {},
   "outputs": [],
   "source": [
    "#If all the functions are created convert this notebook into a .py file and push to your repo"
   ]
  }
 ],
 "metadata": {
  "kernelspec": {
   "display_name": "Python 3",
   "language": "python",
   "name": "python3"
  },
  "language_info": {
   "codemirror_mode": {
    "name": "ipython",
    "version": 3
   },
   "file_extension": ".py",
   "mimetype": "text/x-python",
   "name": "python",
   "nbconvert_exporter": "python",
   "pygments_lexer": "ipython3",
   "version": "3.10.9"
  },
  "orig_nbformat": 4,
  "vscode": {
   "interpreter": {
    "hash": "e7370f93d1d0cde622a1f8e1c04877d8463912d04d973331ad4851f04de6915a"
   }
  }
 },
 "nbformat": 4,
 "nbformat_minor": 2
}
