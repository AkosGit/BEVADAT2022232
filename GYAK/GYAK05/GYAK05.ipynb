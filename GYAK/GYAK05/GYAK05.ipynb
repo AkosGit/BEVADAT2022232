{
 "cells": [
  {
   "cell_type": "code",
   "execution_count": 1,
   "metadata": {},
   "outputs": [],
   "source": [
    "import numpy as np\n",
    "from scipy.stats import mode\n",
    "from typing import Tuple\n",
    "from sklearn.metrics import confusion_matrix"
   ]
  },
  {
   "cell_type": "code",
   "execution_count": 3,
   "metadata": {},
   "outputs": [],
   "source": [
    "def load_csv(lul)-> tuple[np.ndarray,np.ndarray]:\n",
    "    np.random.seed(42)\n",
    "    dataset = np.genfromtxt(lul,delimiter=',')\n",
    "    print(dataset.shape)\n",
    "    np.random.shuffle(dataset)\n",
    "    x,y = dataset[:,:-1],dataset[:,-1] # ???\n",
    "    return x,y\n",
    "x,y = load_csv(\"iris.csv\")"
   ]
  },
  {
   "cell_type": "code",
   "execution_count": 8,
   "metadata": {},
   "outputs": [
    {
     "data": {
      "text/plain": [
       "(array([ 355.46503497, -280.09189189,    2.95      ,   21.74726027]),\n",
       " array([1.73561968e+07, 1.18405444e+07, 1.51049922e+04, 6.11729208e+04]))"
      ]
     },
     "execution_count": 8,
     "metadata": {},
     "output_type": "execute_result"
    }
   ],
   "source": [
    "#átlag: nem tudja kezelni a hiányzó értékeket\n",
    "np.mean(x,axis=0),np.var(x,axis=0)\n",
    "# igy jobb\n",
    "np.nanmean(x,axis=0),np.nanvar(x,axis=0)\n",
    "# nan helyére átlag rakás\n",
    "x[np.isnan(x)] = 3.5"
   ]
  },
  {
   "cell_type": "code",
   "execution_count": 9,
   "metadata": {},
   "outputs": [
    {
     "data": {
      "text/plain": [
       "((144, 4), (144,))"
      ]
     },
     "execution_count": 9,
     "metadata": {},
     "output_type": "execute_result"
    }
   ],
   "source": [
    "# értékek törléseamik nagyobbak vagy kissebbek\n",
    "# np.where()[0] 0 a sor index\n",
    "# \n",
    "y = np.delete(y,np.where(x < 0.0)[0],axis=0)\n",
    "y = np.delete(y,np.where(x > 10.0)[0],axis=0)\n",
    "x = np.delete(x,np.where(x < 0.0)[0],axis=0)\n",
    "x = np.delete(x,np.where(x > 10.0)[0],axis=0)\n",
    "x.shape,y.shape"
   ]
  },
  {
   "attachments": {},
   "cell_type": "markdown",
   "metadata": {},
   "source": [
    "## HERE COMES THE KNN"
   ]
  },
  {
   "cell_type": "code",
   "execution_count": 10,
   "metadata": {},
   "outputs": [],
   "source": [
    "def train_test_split(features:np.ndarray,lables:np.ndarray,test_split_ratio:float):\n",
    "    test_size = (len(features * test_split_ratio))\n",
    "    train_size = len(features)- test_size\n",
    "    assert len(features) == test_size + train_size, \"Size mismatch\"\n",
    "\n",
    "    x_train,y_train=features[:train_size,:],lables[:train_size]\n",
    "    x_test,y_test=features[train_size:,:],lables[train_size:]\n",
    "    return(x_train,y_train,x_test,y_test)\n",
    "x_train,y_train,x_test,y_test = train_test_split(x,y,0.2)"
   ]
  },
  {
   "cell_type": "code",
   "execution_count": null,
   "metadata": {},
   "outputs": [],
   "source": [
    "def euclidean(points,element_of_x):\n",
    "    return np.sqrt(np.sum((points-element_of_x)**2,axis=0))"
   ]
  },
  {
   "cell_type": "code",
   "execution_count": null,
   "metadata": {},
   "outputs": [],
   "source": [
    "\n",
    "def predict(x_train,y_train,x_test,y_test,k):\n",
    "    labels = []\n",
    "    for x_test_element in x_test:\n",
    "        #táv\n",
    "        distances = euclidean(x_train,x_test_element)\n",
    "        distances = np.array(sorted(zip(distances,y_train)))\n",
    "        #leggyakoribb label\n",
    "        labels_pred = mode(distances[:k,1],keepdims = False).mode\n",
    "        labels_pred.append(labels_pred)\n",
    "    return np.array(labels_pred,dtype=np.int64)\n",
    "predict(x_train,y_train,x_test,y_test,3)\n"
   ]
  },
  {
   "cell_type": "code",
   "execution_count": 11,
   "metadata": {},
   "outputs": [
    {
     "ename": "NameError",
     "evalue": "name 'y_preds' is not defined",
     "output_type": "error",
     "traceback": [
      "\u001b[1;31m---------------------------------------------------------------------------\u001b[0m",
      "\u001b[1;31mNameError\u001b[0m                                 Traceback (most recent call last)",
      "Cell \u001b[1;32mIn[11], line 4\u001b[0m\n\u001b[0;32m      2\u001b[0m     true_positive \u001b[39m=\u001b[39m (y_test \u001b[39m==\u001b[39m y_preds)\u001b[39m.\u001b[39msum()\n\u001b[0;32m      3\u001b[0m     \u001b[39mreturn\u001b[39;00m true_positive \u001b[39m/\u001b[39m \u001b[39mlen\u001b[39m(y_test) \u001b[39m*\u001b[39m\u001b[39m100\u001b[39m\n\u001b[1;32m----> 4\u001b[0m accuracy(y_test,y_preds)\n",
      "\u001b[1;31mNameError\u001b[0m: name 'y_preds' is not defined"
     ]
    }
   ],
   "source": [
    "def accuracy(y_test,y_preds):\n",
    "    true_positive = (y_test == y_preds).sum()\n",
    "    return true_positive / len(y_test) *100\n",
    "accuracy(y_test,y_preds)"
   ]
  }
 ],
 "metadata": {
  "kernelspec": {
   "display_name": "Python 3",
   "language": "python",
   "name": "python3"
  },
  "language_info": {
   "codemirror_mode": {
    "name": "ipython",
    "version": 3
   },
   "file_extension": ".py",
   "mimetype": "text/x-python",
   "name": "python",
   "nbconvert_exporter": "python",
   "pygments_lexer": "ipython3",
   "version": "3.10.3"
  },
  "orig_nbformat": 4
 },
 "nbformat": 4,
 "nbformat_minor": 2
}
