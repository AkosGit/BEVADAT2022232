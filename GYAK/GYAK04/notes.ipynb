{
 "cells": [
  {
   "cell_type": "code",
   "execution_count": null,
   "metadata": {},
   "outputs": [],
   "source": [
    "## Dataframes\n",
    "df.head() # elsö 4 sort vissza adja\n",
    "df.tail() # utolsó 4-et\n",
    "## NaN kezelés\n",
    "df.fillna(value) # kicserélésük\n",
    "## oszlop manipuláció\n",
    "df[\"oszlop\"] # oslop kirása\n",
    "df[\"oszlop\"]  = valami fucntion # \n",
    "## Read csv\n",
    "df.read_csv(\"path\")\n",
    "df[df[\"oszlop\"]>30] # subplot\n",
    "df.loc[np.where(df[\"number\"]==2)]\n"
   ]
  }
 ],
 "metadata": {
  "language_info": {
   "name": "python"
  },
  "orig_nbformat": 4
 },
 "nbformat": 4,
 "nbformat_minor": 2
}
